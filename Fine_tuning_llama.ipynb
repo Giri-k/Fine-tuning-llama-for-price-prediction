{
 "cells": [
  {
   "cell_type": "markdown",
   "id": "43bb3cd9",
   "metadata": {},
   "source": [
    "Fine-tune an open-source model to Predict Product Prices\n",
    "\n",
    "Please see this notebook in Google Colab:\n",
    "\n",
    "https://colab.research.google.com/drive/1PzLQud1_Ze_jEL7h45Y5M6PW5hhauTMD#scrollTo=uuTX-xonNeOK"
   ]
  }
 ],
 "metadata": {
  "language_info": {
   "name": "python"
  }
 },
 "nbformat": 4,
 "nbformat_minor": 5
}
