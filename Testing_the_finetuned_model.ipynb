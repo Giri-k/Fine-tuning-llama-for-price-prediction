{
 "cells": [
  {
   "cell_type": "markdown",
   "id": "329a3e28",
   "metadata": {},
   "source": [
    "Fine-tune an open-source model to Predict Product Prices\n",
    "\n",
    "Please see this notebook in Google Colab:\n",
    "\n",
    "https://colab.research.google.com/drive/1vJJPK2za6Yz1WM71EbovNTgKFzgFxVkD#scrollTo=lAUAAcEC6ido"
   ]
  }
 ],
 "metadata": {
  "language_info": {
   "name": "python"
  }
 },
 "nbformat": 4,
 "nbformat_minor": 5
}
